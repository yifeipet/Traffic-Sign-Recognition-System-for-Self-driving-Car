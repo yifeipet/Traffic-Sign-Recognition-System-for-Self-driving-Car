{
  "nbformat": 4,
  "nbformat_minor": 0,
  "metadata": {
    "colab": {
      "name": " 3 ensemble Final_Project.ipynb",
      "version": "0.3.2",
      "provenance": []
    },
    "kernelspec": {
      "name": "python3",
      "display_name": "Python 3"
    },
    "accelerator": "GPU"
  },
  "cells": [
    {
      "metadata": {
        "id": "5t1RXLZumhxT",
        "colab_type": "code",
        "outputId": "15248914-0fb7-4ebe-b3af-36406d480100",
        "colab": {
          "base_uri": "https://localhost:8080/",
          "height": 34
        }
      },
      "cell_type": "code",
      "source": [
        "!git clone https://bitbucket.org/jadslim/german-traffic-signs"
      ],
      "execution_count": 0,
      "outputs": [
        {
          "output_type": "stream",
          "text": [
            "fatal: destination path 'german-traffic-signs' already exists and is not an empty directory.\n"
          ],
          "name": "stdout"
        }
      ]
    },
    {
      "metadata": {
        "id": "V8NGhaLwmsg3",
        "colab_type": "code",
        "outputId": "1f210fca-8454-448b-af1f-f607b08f60fb",
        "colab": {
          "base_uri": "https://localhost:8080/",
          "height": 34
        }
      },
      "cell_type": "code",
      "source": [
        "!ls german-traffic-signs"
      ],
      "execution_count": 0,
      "outputs": [
        {
          "output_type": "stream",
          "text": [
            "signnames.csv  test.p  train.p\tvalid.p\n"
          ],
          "name": "stdout"
        }
      ]
    },
    {
      "metadata": {
        "id": "5K74fZsTm1z1",
        "colab_type": "code",
        "outputId": "a74d061a-359e-43cc-98b7-9179b5f244ef",
        "colab": {
          "base_uri": "https://localhost:8080/",
          "height": 34
        }
      },
      "cell_type": "code",
      "source": [
        "import cv2\n",
        "import numpy as np\n",
        "import matplotlib.pyplot as plt\n",
        "import keras\n",
        "from keras.models import Sequential\n",
        "from keras.layers import Dense\n",
        "from keras.optimizers import Adam\n",
        "from keras.utils.np_utils import to_categorical\n",
        "from keras.layers import Dropout, Flatten\n",
        "from keras.layers.convolutional import Conv2D, MaxPooling2D\n",
        "import pickle\n",
        "import pandas as pd\n",
        "import random"
      ],
      "execution_count": 0,
      "outputs": [
        {
          "output_type": "stream",
          "text": [
            "Using TensorFlow backend.\n"
          ],
          "name": "stderr"
        }
      ]
    },
    {
      "metadata": {
        "id": "HlNCrhdxm550",
        "colab_type": "code",
        "colab": {}
      },
      "cell_type": "code",
      "source": [
        "np.random.seed(0)"
      ],
      "execution_count": 0,
      "outputs": []
    },
    {
      "metadata": {
        "id": "RVV88YJDm-BU",
        "colab_type": "code",
        "colab": {}
      },
      "cell_type": "code",
      "source": [
        "# Implement load the data here.\n",
        "with open('german-traffic-signs/train.p', 'rb') as f:\n",
        "    train_data = pickle.load(f)\n",
        "with open('german-traffic-signs/valid.p', 'rb') as f:\n",
        "    val_data = pickle.load(f)\n",
        "#Load test data\n",
        "with open('german-traffic-signs/test.p', 'rb') as f:\n",
        "    test_data = pickle.load(f)\n",
        " \n",
        "    \n",
        "# Split out features and labels\n",
        "X_train, y_train = train_data['features'], train_data['labels']\n",
        "X_val, y_val = val_data['features'], val_data['labels']\n",
        "X_test, y_test = test_data['features'], test_data['labels']"
      ],
      "execution_count": 0,
      "outputs": []
    },
    {
      "metadata": {
        "id": "VBlXEkernC_U",
        "colab_type": "code",
        "outputId": "2ab5fed6-1f23-437b-f22a-4971bd81fe24",
        "colab": {
          "base_uri": "https://localhost:8080/",
          "height": 68
        }
      },
      "cell_type": "code",
      "source": [
        "print(X_train.shape)\n",
        "print(X_val.shape)\n",
        "print(X_test.shape)"
      ],
      "execution_count": 0,
      "outputs": [
        {
          "output_type": "stream",
          "text": [
            "(34799, 32, 32, 3)\n",
            "(4410, 32, 32, 3)\n",
            "(12630, 32, 32, 3)\n"
          ],
          "name": "stdout"
        }
      ]
    },
    {
      "metadata": {
        "id": "USgmryWAnKpF",
        "colab_type": "code",
        "colab": {}
      },
      "cell_type": "code",
      "source": [
        "assert(X_train.shape[0] == y_train.shape[0]), \"The number of images is not equal to the number of labels\"\n",
        "assert(X_val.shape[0] == y_val.shape[0]), \"The number of images is not equal to the number of labels\"\n",
        "assert(X_test.shape[0] == y_test.shape[0]), \"The number of images is not equal to the number of labels\"\n",
        "assert(X_train.shape[1:] == (32,32,3)), \"The dimensions of the images are not (32,32,3)\"\n",
        "assert(X_val.shape[1:] == (32,32,3)), \"The dimensions of the images are not (32,32,3)\"\n",
        "assert(X_test.shape[1:] == (32,32,3)), \"The dimensions of the images are not (32,32,3)\""
      ],
      "execution_count": 0,
      "outputs": []
    },
    {
      "metadata": {
        "id": "iX0Lrs59nSqV",
        "colab_type": "code",
        "outputId": "32e64970-c4a8-471a-c662-3503446e3e2d",
        "colab": {
          "base_uri": "https://localhost:8080/",
          "height": 765
        }
      },
      "cell_type": "code",
      "source": [
        "data = pd.read_csv('german-traffic-signs/signnames.csv')\n",
        "print(data)"
      ],
      "execution_count": 0,
      "outputs": [
        {
          "output_type": "stream",
          "text": [
            "    ClassId                                           SignName\n",
            "0         0                               Speed limit (20km/h)\n",
            "1         1                               Speed limit (30km/h)\n",
            "2         2                               Speed limit (50km/h)\n",
            "3         3                               Speed limit (60km/h)\n",
            "4         4                               Speed limit (70km/h)\n",
            "5         5                               Speed limit (80km/h)\n",
            "6         6                        End of speed limit (80km/h)\n",
            "7         7                              Speed limit (100km/h)\n",
            "8         8                              Speed limit (120km/h)\n",
            "9         9                                         No passing\n",
            "10       10       No passing for vechiles over 3.5 metric tons\n",
            "11       11              Right-of-way at the next intersection\n",
            "12       12                                      Priority road\n",
            "13       13                                              Yield\n",
            "14       14                                               Stop\n",
            "15       15                                        No vechiles\n",
            "16       16           Vechiles over 3.5 metric tons prohibited\n",
            "17       17                                           No entry\n",
            "18       18                                    General caution\n",
            "19       19                        Dangerous curve to the left\n",
            "20       20                       Dangerous curve to the right\n",
            "21       21                                       Double curve\n",
            "22       22                                         Bumpy road\n",
            "23       23                                      Slippery road\n",
            "24       24                          Road narrows on the right\n",
            "25       25                                          Road work\n",
            "26       26                                    Traffic signals\n",
            "27       27                                        Pedestrians\n",
            "28       28                                  Children crossing\n",
            "29       29                                  Bicycles crossing\n",
            "30       30                                 Beware of ice/snow\n",
            "31       31                              Wild animals crossing\n",
            "32       32                End of all speed and passing limits\n",
            "33       33                                   Turn right ahead\n",
            "34       34                                    Turn left ahead\n",
            "35       35                                         Ahead only\n",
            "36       36                               Go straight or right\n",
            "37       37                                Go straight or left\n",
            "38       38                                         Keep right\n",
            "39       39                                          Keep left\n",
            "40       40                               Roundabout mandatory\n",
            "41       41                                  End of no passing\n",
            "42       42  End of no passing by vechiles over 3.5 metric ...\n"
          ],
          "name": "stdout"
        }
      ]
    },
    {
      "metadata": {
        "id": "3OL4w9SGnWxl",
        "colab_type": "code",
        "colab": {}
      },
      "cell_type": "code",
      "source": [
        "num_of_samples = []\n",
        "\n",
        "cols = 5\n",
        "num_classes = 43\n"
      ],
      "execution_count": 0,
      "outputs": []
    },
    {
      "metadata": {
        "id": "IWpsoxs8ns8l",
        "colab_type": "code",
        "colab": {}
      },
      "cell_type": "code",
      "source": [
        "def grayscale(img):\n",
        "  img = cv2.cvtColor(img, cv2.COLOR_BGR2GRAY)\n",
        "  return img\n"
      ],
      "execution_count": 0,
      "outputs": []
    },
    {
      "metadata": {
        "id": "kvb_aIopnxdV",
        "colab_type": "code",
        "colab": {}
      },
      "cell_type": "code",
      "source": [
        "# histogram equalization\n",
        "def equalize(img):\n",
        "  img = cv2.equalizeHist(img)\n",
        "  return img"
      ],
      "execution_count": 0,
      "outputs": []
    },
    {
      "metadata": {
        "id": "BMVDlcQTsBJn",
        "colab_type": "code",
        "colab": {}
      },
      "cell_type": "code",
      "source": [
        "def preprocessing(img):\n",
        "  img = grayscale(img)\n",
        "  img = equalize(img)\n",
        "  img = img/255\n",
        "  return img\n",
        "\n",
        "X_train = np.array(list(map(preprocessing, X_train)))\n",
        "X_val = np.array(list(map(preprocessing, X_val)))\n",
        "X_test = np.array(list(map(preprocessing, X_test)))"
      ],
      "execution_count": 0,
      "outputs": []
    },
    {
      "metadata": {
        "id": "ZBL0ABU_sShH",
        "colab_type": "code",
        "colab": {}
      },
      "cell_type": "code",
      "source": [
        "X_train = X_train.reshape(34799, 32, 32,1)\n",
        "X_test = X_test.reshape(12630, 32, 32,1)\n",
        "X_val = X_val.reshape(4410, 32, 32,1)"
      ],
      "execution_count": 0,
      "outputs": []
    },
    {
      "metadata": {
        "id": "ZTtyix10sgWX",
        "colab_type": "code",
        "outputId": "2d6fe161-5702-484c-df3a-9e78beac8de2",
        "colab": {
          "base_uri": "https://localhost:8080/",
          "height": 68
        }
      },
      "cell_type": "code",
      "source": [
        "print(X_train.shape)\n",
        "print(X_test.shape)\n",
        "print(X_val.shape)"
      ],
      "execution_count": 0,
      "outputs": [
        {
          "output_type": "stream",
          "text": [
            "(34799, 32, 32, 1)\n",
            "(12630, 32, 32, 1)\n",
            "(4410, 32, 32, 1)\n"
          ],
          "name": "stdout"
        }
      ]
    },
    {
      "metadata": {
        "id": "pNVGATH3sjvY",
        "colab_type": "code",
        "colab": {}
      },
      "cell_type": "code",
      "source": [
        "y_train = to_categorical(y_train, 43)\n",
        "y_test = to_categorical(y_test, 43)\n",
        "y_val = to_categorical(y_val, 43)"
      ],
      "execution_count": 0,
      "outputs": []
    },
    {
      "metadata": {
        "id": "RqIGsqK8uQtM",
        "colab_type": "code",
        "colab": {}
      },
      "cell_type": "code",
      "source": [
        "def modified_model():\n",
        "  model = Sequential()\n",
        "  model.add(Conv2D(60,(5,5), input_shape=(32,32,1),activation='relu'))\n",
        "  model.add(Conv2D(60,(5,5), activation='relu'))\n",
        "  model.add(MaxPooling2D(pool_size=(2,2)))\n",
        "  model.add(Conv2D(30,(3,3),activation='relu'))\n",
        "  model.add(Conv2D(30,(3,3),activation='relu'))\n",
        "  model.add(MaxPooling2D(pool_size=(2,2)))\n",
        "  #model.add(Dropout(0.5))\n",
        "  model.add(Flatten())\n",
        "  model.add(Dense(500,activation = 'relu'))\n",
        "  model.add(Dropout(0.5))\n",
        "  model.add(Dense(num_classes, activation = 'softmax'))\n",
        "  #Compile model\n",
        "  model.compile(Adam(lr=0.001),loss='categorical_crossentropy',metrics =['accuracy'])\n",
        "  return model"
      ],
      "execution_count": 0,
      "outputs": []
    },
    {
      "metadata": {
        "id": "MRtAilZ_wfLu",
        "colab_type": "code",
        "colab": {}
      },
      "cell_type": "code",
      "source": [
        "from keras.preprocessing.image import ImageDataGenerator\n",
        "datagen = ImageDataGenerator(width_shift_range =0.1,\n",
        "                  height_shift_range =0.1,\n",
        "                  zoom_range=0.2,\n",
        "                  shear_range =0.1,\n",
        "                  rotation_range =10)"
      ],
      "execution_count": 0,
      "outputs": []
    },
    {
      "metadata": {
        "id": "V02A6CivxUlw",
        "colab_type": "code",
        "colab": {}
      },
      "cell_type": "code",
      "source": [
        "datagen.fit(X_train)"
      ],
      "execution_count": 0,
      "outputs": []
    },
    {
      "metadata": {
        "id": "uR89Z_KPxYTg",
        "colab_type": "code",
        "outputId": "16f9f31e-d451-4aa1-dcf7-05400f8aab4f",
        "colab": {
          "base_uri": "https://localhost:8080/",
          "height": 105
        }
      },
      "cell_type": "code",
      "source": [
        "batches = datagen.flow(X_train, y_train, batch_size=20)\n",
        "X_batch, y_batch = next(batches)\n",
        "\n",
        "fig, axs = plt.subplots(1,15,figsize=(20,5))\n",
        "fig.tight_layout()\n",
        "\n",
        "for i in range(15):\n",
        "  axs[i].imshow(X_batch[i].reshape(32,32))\n",
        "  axs[i].axis('off')"
      ],
      "execution_count": 0,
      "outputs": [
        {
          "output_type": "display_data",
          "data": {
            "image/png": "[encoded data removed]",
            "text/plain": [
              "<matplotlib.figure.Figure at 0x7fcd1e4545f8>"
            ]
          },
          "metadata": {
            "tags": []
          }
        }
      ]
    },
    {
      "metadata": {
        "id": "WLN3SCFJ5vZs",
        "colab_type": "code",
        "colab": {}
      },
      "cell_type": "code",
      "source": [
        "from sklearn.utils import resample"
      ],
      "execution_count": 0,
      "outputs": []
    },
    {
      "metadata": {
        "id": "As0jOFWE5D2x",
        "colab_type": "code",
        "colab": {}
      },
      "cell_type": "code",
      "source": [
        "X_train_sample_list = []\n",
        "y_train_sample_list = []"
      ],
      "execution_count": 0,
      "outputs": []
    },
    {
      "metadata": {
        "id": "hD9Rw8vG5kyi",
        "colab_type": "code",
        "colab": {}
      },
      "cell_type": "code",
      "source": [
        "for i in range(3):\n",
        "  X_train_sample , y_train_sample =  resample(X_train,  y_train,  n_samples = 34799)\n",
        "  X_train_sample_list.append(X_train_sample)\n",
        "  y_train_sample_list.append(y_train_sample)"
      ],
      "execution_count": 0,
      "outputs": []
    },
    {
      "metadata": {
        "id": "ZnRZAmhh5oQR",
        "colab_type": "code",
        "colab": {}
      },
      "cell_type": "code",
      "source": [
        "model_list = []\n",
        "history_list = []"
      ],
      "execution_count": 0,
      "outputs": []
    },
    {
      "metadata": {
        "id": "FOY4E_QK7c2z",
        "colab_type": "code",
        "outputId": "a5c2ab7b-3293-4454-f644-0add0698f5c8",
        "colab": {
          "base_uri": "https://localhost:8080/",
          "height": 1037
        }
      },
      "cell_type": "code",
      "source": [
        "for i in range(3):\n",
        "  model = modified_model()\n",
        "  datagen.fit(X_train_sample_list[i])\n",
        "  history = model.fit_generator(datagen.flow(X_train_sample_list[i],y_train_sample_list[i],batch_size=50),steps_per_epoch=2000, epochs=10, validation_data =(X_val,y_val),shuffle=1)\n",
        "  model_list.append(model)\n",
        "  history_list.append(history)"
      ],
      "execution_count": 0,
      "outputs": [
        {
          "output_type": "stream",
          "text": [
            "Epoch 1/10\n",
            "2000/2000 [==============================] - 65s 33ms/step - loss: 0.9473 - acc: 0.7222 - val_loss: 0.0940 - val_acc: 0.9719\n",
            "Epoch 2/10\n",
            "2000/2000 [==============================] - 61s 31ms/step - loss: 0.2313 - acc: 0.9286 - val_loss: 0.0460 - val_acc: 0.9882\n",
            "Epoch 3/10\n",
            "2000/2000 [==============================] - 63s 31ms/step - loss: 0.1495 - acc: 0.9534 - val_loss: 0.0322 - val_acc: 0.9918\n",
            "Epoch 4/10\n",
            "2000/2000 [==============================] - 61s 31ms/step - loss: 0.1158 - acc: 0.9645 - val_loss: 0.0398 - val_acc: 0.9900\n",
            "Epoch 5/10\n",
            "2000/2000 [==============================] - 62s 31ms/step - loss: 0.0936 - acc: 0.9708 - val_loss: 0.0536 - val_acc: 0.9855\n",
            "Epoch 6/10\n",
            "2000/2000 [==============================] - 64s 32ms/step - loss: 0.0857 - acc: 0.9735 - val_loss: 0.0257 - val_acc: 0.9921\n",
            "Epoch 7/10\n",
            "2000/2000 [==============================] - 63s 32ms/step - loss: 0.0741 - acc: 0.9772 - val_loss: 0.0492 - val_acc: 0.9868\n",
            "Epoch 8/10\n",
            "2000/2000 [==============================] - 64s 32ms/step - loss: 0.0687 - acc: 0.9793 - val_loss: 0.0308 - val_acc: 0.9923\n",
            "Epoch 9/10\n",
            "2000/2000 [==============================] - 66s 33ms/step - loss: 0.0632 - acc: 0.9806 - val_loss: 0.0303 - val_acc: 0.9916\n",
            "Epoch 10/10\n",
            "2000/2000 [==============================] - 66s 33ms/step - loss: 0.0599 - acc: 0.9820 - val_loss: 0.0248 - val_acc: 0.9927\n",
            "Epoch 1/10\n",
            "2000/2000 [==============================] - 66s 33ms/step - loss: 0.9808 - acc: 0.7124 - val_loss: 0.1059 - val_acc: 0.9707\n",
            "Epoch 2/10\n",
            "2000/2000 [==============================] - 63s 31ms/step - loss: 0.2431 - acc: 0.9233 - val_loss: 0.0569 - val_acc: 0.9814\n",
            "Epoch 3/10\n",
            "2000/2000 [==============================] - 62s 31ms/step - loss: 0.1606 - acc: 0.9487 - val_loss: 0.0548 - val_acc: 0.9825\n",
            "Epoch 4/10\n",
            "2000/2000 [==============================] - 64s 32ms/step - loss: 0.1277 - acc: 0.9604 - val_loss: 0.0571 - val_acc: 0.9814\n",
            "Epoch 5/10\n",
            "2000/2000 [==============================] - 62s 31ms/step - loss: 0.1054 - acc: 0.9673 - val_loss: 0.0295 - val_acc: 0.9916\n",
            "Epoch 6/10\n",
            "2000/2000 [==============================] - 61s 31ms/step - loss: 0.0937 - acc: 0.9706 - val_loss: 0.0407 - val_acc: 0.9866\n",
            "Epoch 7/10\n",
            "2000/2000 [==============================] - 61s 31ms/step - loss: 0.0817 - acc: 0.9745 - val_loss: 0.0333 - val_acc: 0.9900\n",
            "Epoch 8/10\n",
            "2000/2000 [==============================] - 63s 31ms/step - loss: 0.0743 - acc: 0.9773 - val_loss: 0.0391 - val_acc: 0.9896\n",
            "Epoch 9/10\n",
            "2000/2000 [==============================] - 65s 32ms/step - loss: 0.0678 - acc: 0.9791 - val_loss: 0.0288 - val_acc: 0.9921\n",
            "Epoch 10/10\n",
            "2000/2000 [==============================] - 64s 32ms/step - loss: 0.0632 - acc: 0.9809 - val_loss: 0.0311 - val_acc: 0.9918\n",
            "Epoch 1/10\n",
            "2000/2000 [==============================] - 66s 33ms/step - loss: 0.9985 - acc: 0.7062 - val_loss: 0.1127 - val_acc: 0.9687\n",
            "Epoch 2/10\n",
            "2000/2000 [==============================] - 64s 32ms/step - loss: 0.2548 - acc: 0.9198 - val_loss: 0.0523 - val_acc: 0.9853\n",
            "Epoch 3/10\n",
            "2000/2000 [==============================] - 61s 31ms/step - loss: 0.1700 - acc: 0.9461 - val_loss: 0.0433 - val_acc: 0.9880\n",
            "Epoch 4/10\n",
            "2000/2000 [==============================] - 62s 31ms/step - loss: 0.1317 - acc: 0.9589 - val_loss: 0.0652 - val_acc: 0.9832\n",
            "Epoch 5/10\n",
            "2000/2000 [==============================] - 64s 32ms/step - loss: 0.1108 - acc: 0.9656 - val_loss: 0.0395 - val_acc: 0.9905\n",
            "Epoch 6/10\n",
            "2000/2000 [==============================] - 65s 33ms/step - loss: 0.0928 - acc: 0.9705 - val_loss: 0.0608 - val_acc: 0.9855\n",
            "Epoch 7/10\n",
            "2000/2000 [==============================] - 65s 33ms/step - loss: 0.0847 - acc: 0.9739 - val_loss: 0.0384 - val_acc: 0.9902\n",
            "Epoch 8/10\n",
            "2000/2000 [==============================] - 65s 32ms/step - loss: 0.0772 - acc: 0.9765 - val_loss: 0.0522 - val_acc: 0.9896\n",
            "Epoch 9/10\n",
            "2000/2000 [==============================] - 63s 32ms/step - loss: 0.0713 - acc: 0.9785 - val_loss: 0.0295 - val_acc: 0.9932\n",
            "Epoch 10/10\n",
            "2000/2000 [==============================] - 65s 33ms/step - loss: 0.0693 - acc: 0.9792 - val_loss: 0.0570 - val_acc: 0.9862\n"
          ],
          "name": "stdout"
        }
      ]
    },
    {
      "metadata": {
        "id": "GfMv_Adp7elD",
        "colab_type": "code",
        "outputId": "8f67d73a-9caf-44d9-a5a2-c571bbd93087",
        "colab": {
          "base_uri": "https://localhost:8080/",
          "height": 415
        }
      },
      "cell_type": "code",
      "source": [
        "list = []\n",
        "for i in range(3):\n",
        "  list.append(np.argmax(model_list[i].predict(X_test),axis=1).tolist())\n",
        "from scipy import stats\n",
        "predict_class = stats.mode(np.asarray(list))[0]\n",
        "test_accuracy_3 =sum(predict_class[0] ==np.argmax(y_test,axis=1).reshape((1,12630))[0])/len(y_test)\n",
        "print('Testing accuracy for 3 bagging-ensemble models:',test_accuracy_3)\n",
        "accuracy_list=[[],[],[]]\n",
        "for i in range(3):\n",
        "  accuracy_list[0].append(history_list[i].history['acc'][-1])\n",
        "  accuracy_list[1].append(history_list[i].history['val_acc'][-1])\n",
        "  accuracy_list[2].append(model_list[i].evaluate(X_test,y_test,verbose=0)[1])\n",
        "\n",
        "import matplotlib.pyplot as plt\n",
        "plt.boxplot(accuracy_list)\n",
        "plt.xticks([1,2,3],['training_acc','val_acc','test_acc'])\n",
        "\n",
        "\n",
        "print('Testing accuracy for 3 bagging-ensemble models:', test_accuracy_3)\n",
        "\n",
        "training_predict_list = []\n",
        "val_predict_list = []\n",
        "for i in range(3):\n",
        "  training_predict_list.append(np.argmax(model_list[i].predict(X_train),axis = 1).tolist())\n",
        "  val_predict_list.append(np.argmax(model_list[i].predict(X_val),axis = 1).tolist())\n",
        "\n",
        "predict_class_train = stats.mode(np.asarray(training_predict_list))[0]\n",
        "predict_class_val = stats.mode(np.asarray(val_predict_list))[0]\n",
        "\n",
        "train_accuracy_3 = sum(predict_class_train[0] == np.argmax(y_train, axis =1).reshape((1,34799))[0])/len(y_train)\n",
        "print('Training accuracy for 3 bagging-ensemble models:', train_accuracy_3)\n",
        "\n",
        "val_accuracy_3= sum(predict_class_val[0] == np.argmax(y_val, axis =1).reshape((1,4410))[0])/len(y_val)\n",
        "\n",
        "print('Validation accuracy for 3 bagging-ensemble models:', val_accuracy_3)\n",
        "\n"
      ],
      "execution_count": 0,
      "outputs": [
        {
          "output_type": "stream",
          "text": [
            "Testing accuracy for 3 bagging-ensemble models: 0.9795724465558194\n",
            "Testing accuracy for 3 bagging-ensemble models: 0.9795724465558194\n",
            "Training accuracy for 3 bagging-ensemble models: 0.9992815885513952\n",
            "Validation accuracy for 3 bagging-ensemble models: 0.9941043083900227\n"
          ],
          "name": "stdout"
        },
        {
          "output_type": "display_data",
          "data": {
            "image/png": "[encoded data removed]",
            "text/plain": [
              "<matplotlib.figure.Figure at 0x7fcd184b79b0>"
            ]
          },
          "metadata": {
            "tags": []
          }
        }
      ]
    }
  ]
}